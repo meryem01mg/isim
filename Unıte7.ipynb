{
 "cells": [
  {
   "cell_type": "code",
   "execution_count": 1,
   "id": "02792259-7219-4c91-b022-699a86feb103",
   "metadata": {},
   "outputs": [
    {
     "name": "stdout",
     "output_type": "stream",
     "text": [
      "Requirement already satisfied: numpy in c:\\programdata\\anaconda3\\lib\\site-packages (1.26.4)\n",
      "Note: you may need to restart the kernel to use updated packages.\n"
     ]
    }
   ],
   "source": [
    "pip install numpy"
   ]
  },
  {
   "cell_type": "code",
   "execution_count": 3,
   "id": "dae008c8-2d00-46eb-8299-7e1bd87349ca",
   "metadata": {},
   "outputs": [],
   "source": [
    "import numpy as np"
   ]
  },
  {
   "cell_type": "code",
   "execution_count": 4,
   "id": "e06ece83-7f8a-4854-9794-9f0944a55c7a",
   "metadata": {},
   "outputs": [
    {
     "name": "stdout",
     "output_type": "stream",
     "text": [
      "[1 2 3 4]\n"
     ]
    }
   ],
   "source": [
    "dizi=np.array([1,2,3,4])\n",
    "print(dizi)"
   ]
  },
  {
   "cell_type": "code",
   "execution_count": null,
   "id": "d07f060a-2320-40ff-91af-752d598d2982",
   "metadata": {},
   "outputs": [],
   "source": [
    "import numpy as np"
   ]
  },
  {
   "cell_type": "code",
   "execution_count": 5,
   "id": "07b34254-9889-4c3b-acbe-0e6d88eda84c",
   "metadata": {},
   "outputs": [
    {
     "name": "stdout",
     "output_type": "stream",
     "text": [
      "Array: [1 2 3 4 5]\n"
     ]
    }
   ],
   "source": [
    "array = np.array([1, 2, 3, 4, 5], dtype=int)\n",
    "print(\"Array:\", array)"
   ]
  },
  {
   "cell_type": "code",
   "execution_count": 6,
   "id": "5fc24a05-0d0e-4b19-a5cb-162b12144a92",
   "metadata": {},
   "outputs": [
    {
     "name": "stdout",
     "output_type": "stream",
     "text": [
      "Arrayin Boyutu: (5,)\n"
     ]
    }
   ],
   "source": [
    "print(\"Arrayin Boyutu:\", array.shape)"
   ]
  },
  {
   "cell_type": "code",
   "execution_count": 7,
   "id": "ab97a67c-e266-46ee-9a5d-6bccb07985ee",
   "metadata": {},
   "outputs": [
    {
     "name": "stdout",
     "output_type": "stream",
     "text": [
      "Arraydeki Eleman Sayısı: 5\n"
     ]
    }
   ],
   "source": [
    "print(\"Arraydeki Eleman Sayısı:\", array.size)"
   ]
  },
  {
   "cell_type": "code",
   "execution_count": null,
   "id": "ff958f4b-8cd6-4fe2-bf2e-35d3128839cb",
   "metadata": {},
   "outputs": [],
   "source": []
  },
  {
   "cell_type": "code",
   "execution_count": 8,
   "id": "8244bb78-f79c-497a-8b65-de83d3a30fe9",
   "metadata": {},
   "outputs": [
    {
     "name": "stdout",
     "output_type": "stream",
     "text": [
      "3D Array:\n",
      " [[[ 1  2  3]\n",
      "  [ 4  5  6]]\n",
      "\n",
      " [[ 7  8  9]\n",
      "  [10 11 12]]]\n"
     ]
    }
   ],
   "source": [
    "array_3d = np.array([[[1, 2, 3], [4, 5, 6]], [[7, 8, 9], [10, 11, 12]]])\n",
    "print(\"3D Array:\\n\", array_3d)"
   ]
  },
  {
   "cell_type": "code",
   "execution_count": 9,
   "id": "eab30343-5322-4e7b-a197-3bdbe7f939ef",
   "metadata": {},
   "outputs": [
    {
     "name": "stdout",
     "output_type": "stream",
     "text": [
      "0\n",
      "1\n",
      "2\n"
     ]
    }
   ],
   "source": [
    "array1=np.array(36)\n",
    "array2=np.array([1,2,3,4])\n",
    "array3=np.array([[1,2,3],[4,5,6],[7,8,9]])\n",
    "\n",
    "\n",
    "print(array1.ndim)\n",
    "print(array2.ndim)\n",
    "print(array3.ndim)"
   ]
  },
  {
   "cell_type": "code",
   "execution_count": null,
   "id": "516f5af0-967e-4d47-9d6e-e49d23fee1f7",
   "metadata": {},
   "outputs": [],
   "source": []
  },
  {
   "cell_type": "code",
   "execution_count": 10,
   "id": "01863af6-ea52-4d63-88bd-270bc94774a1",
   "metadata": {},
   "outputs": [
    {
     "name": "stdout",
     "output_type": "stream",
     "text": [
      "1D Array: [10 20 30 40 50]\n"
     ]
    }
   ],
   "source": [
    "array_1d = np.array([10, 20, 30, 40, 50])\n",
    "print(\"1D Array:\", array_1d)"
   ]
  },
  {
   "cell_type": "code",
   "execution_count": 11,
   "id": "b870fe2c-3b48-494e-b1bf-b68f2ba8f848",
   "metadata": {},
   "outputs": [
    {
     "name": "stdout",
     "output_type": "stream",
     "text": [
      "1D Array [2]: 30\n"
     ]
    }
   ],
   "source": [
    "print(\"1D Array [2]:\", array_1d[2])"
   ]
  },
  {
   "cell_type": "code",
   "execution_count": 12,
   "id": "606755c5-9e4d-47e7-bf98-8e4a330042b2",
   "metadata": {},
   "outputs": [
    {
     "name": "stdout",
     "output_type": "stream",
     "text": [
      "1D Array [1:4]: [20 30 40]\n"
     ]
    }
   ],
   "source": [
    "print(\"1D Array [1:4]:\", array_1d[1:4]) "
   ]
  },
  {
   "cell_type": "code",
   "execution_count": 13,
   "id": "81063890-a472-4f58-9fc5-290d3a62d703",
   "metadata": {},
   "outputs": [
    {
     "name": "stdout",
     "output_type": "stream",
     "text": [
      "2D Array:\n",
      " [[1 2 3]\n",
      " [4 5 6]\n",
      " [7 8 9]]\n"
     ]
    }
   ],
   "source": [
    "array_2d = np.array([[1, 2, 3], [4, 5, 6], [7, 8, 9]])\n",
    "print(\"2D Array:\\n\", array_2d)"
   ]
  },
  {
   "cell_type": "code",
   "execution_count": 14,
   "id": "c0622106-5bee-4b75-ab82-a8c168df44a9",
   "metadata": {},
   "outputs": [
    {
     "name": "stdout",
     "output_type": "stream",
     "text": [
      "2D Array 2. Satır: [4 5 6]\n"
     ]
    }
   ],
   "source": [
    "print(\"2D Array 2. Satır:\", array_2d[1, :]) "
   ]
  },
  {
   "cell_type": "code",
   "execution_count": 15,
   "id": "791ec662-7e20-4c44-aa21-fef932aa8866",
   "metadata": {},
   "outputs": [
    {
     "name": "stdout",
     "output_type": "stream",
     "text": [
      "2D Array 2. Sütun: [2 5 8]\n"
     ]
    }
   ],
   "source": [
    "print(\"2D Array 2. Sütun:\", array_2d[:, 1])"
   ]
  },
  {
   "cell_type": "code",
   "execution_count": 16,
   "id": "5dfe02db-222b-402e-b04c-8cabe9179c77",
   "metadata": {},
   "outputs": [
    {
     "name": "stdout",
     "output_type": "stream",
     "text": [
      "2D Array Alt Matris:\n",
      " [[2 3]\n",
      " [5 6]]\n"
     ]
    }
   ],
   "source": [
    "print(\"2D Array Alt Matris:\\n\", array_2d[0:2, 1:3]) "
   ]
  },
  {
   "cell_type": "code",
   "execution_count": 17,
   "id": "bcdd62f3-3dc3-4463-b310-b1322c2f6535",
   "metadata": {},
   "outputs": [
    {
     "name": "stdout",
     "output_type": "stream",
     "text": [
      "3D Array:\n",
      " [[[ 1  2  3]\n",
      "  [ 4  5  6]]\n",
      "\n",
      " [[ 7  8  9]\n",
      "  [10 11 12]]]\n"
     ]
    }
   ],
   "source": [
    "array_3d = np.array([[[1, 2, 3], [4, 5, 6]], [[7, 8, 9], [10, 11, 12]]])\n",
    "print(\"3D Array:\\n\", array_3d)"
   ]
  },
  {
   "cell_type": "code",
   "execution_count": 18,
   "id": "e8bc582a-6069-407f-b5b8-02e16bb796ab",
   "metadata": {},
   "outputs": [
    {
     "name": "stdout",
     "output_type": "stream",
     "text": [
      "3D Array [1, 1, 2]: 12\n"
     ]
    }
   ],
   "source": [
    "print(\"3D Array [1, 1, 2]:\", array_3d[1, 1, 2])"
   ]
  },
  {
   "cell_type": "code",
   "execution_count": 19,
   "id": "5642307b-d9e2-4843-8402-a1d235d0673b",
   "metadata": {},
   "outputs": [
    {
     "name": "stdout",
     "output_type": "stream",
     "text": [
      "3D Array 1. Katman:\n",
      " [[1 2 3]\n",
      " [4 5 6]]\n"
     ]
    }
   ],
   "source": [
    "print(\"3D Array 1. Katman:\\n\", array_3d[0, :, :])"
   ]
  },
  {
   "cell_type": "code",
   "execution_count": 20,
   "id": "d15ef36c-9219-4a4c-a868-e2a88eca6080",
   "metadata": {},
   "outputs": [
    {
     "name": "stdout",
     "output_type": "stream",
     "text": [
      "3D Array 1. Katman 2. Satır: [4 5 6]\n"
     ]
    }
   ],
   "source": [
    "print(\"3D Array 1. Katman 2. Satır:\", array_3d[0, 1, :]) "
   ]
  },
  {
   "cell_type": "code",
   "execution_count": 21,
   "id": "a7e55136-1031-4f62-a48a-22f954062ef5",
   "metadata": {},
   "outputs": [
    {
     "name": "stdout",
     "output_type": "stream",
     "text": [
      "3D Array 2. Katman 2. Sütun: [ 5 11]\n"
     ]
    }
   ],
   "source": [
    "print(\"3D Array 2. Katman 2. Sütun:\", array_3d[:, 1, 1])"
   ]
  },
  {
   "cell_type": "code",
   "execution_count": 22,
   "id": "19019224-5d43-4f34-b9fb-f01955d8b1ca",
   "metadata": {},
   "outputs": [
    {
     "name": "stdout",
     "output_type": "stream",
     "text": [
      "3D Array Alt Matris:\n",
      " [[[ 2  3]\n",
      "  [ 5  6]]\n",
      "\n",
      " [[ 8  9]\n",
      "  [11 12]]]\n"
     ]
    }
   ],
   "source": [
    "print(\"3D Array Alt Matris:\\n\", array_3d[0:2, 0:2, 1:3]) "
   ]
  },
  {
   "cell_type": "code",
   "execution_count": null,
   "id": "cf80022a-19bd-430b-90a3-5a7b3d405176",
   "metadata": {},
   "outputs": [],
   "source": []
  },
  {
   "cell_type": "code",
   "execution_count": 31,
   "id": "d35a5633-1017-4b9d-82a3-5839b1b793dd",
   "metadata": {},
   "outputs": [
    {
     "name": "stdout",
     "output_type": "stream",
     "text": [
      "Sıfırlardan Oluşan Array:\n",
      " [[0. 0. 0.]\n",
      " [0. 0. 0.]]\n",
      "Birlerden Oluşan Array:\n",
      " [[1. 1. 1.]\n",
      " [1. 1. 1.]]\n",
      "Satır Bazında Birleştirilmiş Array:\n",
      " [[0. 0. 0.]\n",
      " [0. 0. 0.]\n",
      " [1. 1. 1.]\n",
      " [1. 1. 1.]]\n",
      "Sütun Bazında Birleştirilmiş Array:\n",
      " [[0. 0. 0. 1. 1. 1.]\n",
      " [0. 0. 0. 1. 1. 1.]]\n"
     ]
    }
   ],
   "source": [
    "\n",
    "# 2x3 boyutlarında sıfırlardan oluşan bir array\n",
    "sıfırlar_array = np.zeros((2, 3))\n",
    "print(\"Sıfırlardan Oluşan Array:\\n\", sıfırlar_array)\n",
    "\n",
    "# 2x3 boyutlarında birlerden oluşan bir array\n",
    "olanlar_array = np.ones((2, 3))\n",
    "print(\"Birlerden Oluşan Array:\\n\", olanlar_array)\n",
    "\n",
    "# Satır bazında birleştirme\n",
    "dikey_stack = np.vstack((sıfırlar_array, olanlar_array))\n",
    "print(\"Satır Bazında Birleştirilmiş Array:\\n\", dikey_stack)\n",
    "\n",
    "# Sütun bazında birleştirme\n",
    "yatay_stack = np.hstack((sıfırlar_array, olanlar_array))\n",
    "print(\"Sütun Bazında Birleştirilmiş Array:\\n\", yatay_stack)"
   ]
  },
  {
   "cell_type": "code",
   "execution_count": null,
   "id": "98bcb118-c318-4cfc-b4ab-a4b08122567c",
   "metadata": {},
   "outputs": [],
   "source": []
  },
  {
   "cell_type": "code",
   "execution_count": null,
   "id": "9794e025-9179-4ec1-a39a-1b31b3b1b1a5",
   "metadata": {},
   "outputs": [],
   "source": []
  }
 ],
 "metadata": {
  "kernelspec": {
   "display_name": "Python 3 (ipykernel)",
   "language": "python",
   "name": "python3"
  },
  "language_info": {
   "codemirror_mode": {
    "name": "ipython",
    "version": 3
   },
   "file_extension": ".py",
   "mimetype": "text/x-python",
   "name": "python",
   "nbconvert_exporter": "python",
   "pygments_lexer": "ipython3",
   "version": "3.12.4"
  }
 },
 "nbformat": 4,
 "nbformat_minor": 5
}
