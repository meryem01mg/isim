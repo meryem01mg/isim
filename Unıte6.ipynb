{
 "cells": [
  {
   "cell_type": "code",
   "execution_count": null,
   "id": "337663a5-440b-469e-9ee4-7bf2f783e6a1",
   "metadata": {},
   "outputs": [
    {
     "name": "stdout",
     "output_type": "stream",
     "text": [
      "\n",
      "Seçenekler:\n",
      "1. Öğrenci notu sorgula\n",
      "2. Öğrenci notunu güncelle\n",
      "3. Yeni öğrenci ekle\n",
      "4. Tüm öğrencileri listele\n",
      "5. Çıkış yap\n"
     ]
    }
   ],
   "source": [
    "ogrenci_notlari = {\n",
    "    \"Ali\": {\"Matematik\": 85, \"Fizik\": 90, \"Kimya\": 78},\n",
    "    \"Ayşe\": {\"Matematik\": 92, \"Fizik\": 88, \"Kimya\": 95},\n",
    "    \"Mehmet\": {\"Matematik\": 70, \"Fizik\": 75, \"Kimya\": 80},\n",
    "    \"Zeynep\": {\"Matematik\": 95, \"Fizik\": 82, \"Kimya\": 89}\n",
    "}\n",
    "\n",
    "while True:\n",
    "    print(\"\\nSeçenekler:\")\n",
    "    print(\"1. Öğrenci notu sorgula\")\n",
    "    print(\"2. Öğrenci notunu güncelle\")\n",
    "    print(\"3. Yeni öğrenci ekle\")\n",
    "    print(\"4. Tüm öğrencileri listele\")\n",
    "    print(\"5. Çıkış yap\")\n",
    "\n",
    "    secim = input(\"Bir seçenek girin (1-5): \")\n",
    "\n",
    "    if secim == \"1\":\n",
    "        isim = input(\"Öğrenci ismini girin: \")\n",
    "        ders = input(\"Öğrenmek istediğiniz ders ismini girin (Matematik, Fizik, Kimya): \")\n",
    "        if isim in ogrenci_notlari and ders in ogrenci_notlari[isim]:\n",
    "            print(f\"{isim} adlı öğrencinin {ders} notu: {ogrenci_notlari[isim][ders]}\")\n",
    "        else:\n",
    "            print(\"Girilen isim veya ders hatalı.\")\n",
    "\n",
    "    elif secim == \"2\":\n",
    "        isim = input(\"Notunu güncellemek istediğiniz öğrencinin ismini girin: \")\n",
    "        ders = input(\"Hangi dersin notunu güncellemek istiyorsunuz? (Matematik, Fizik, Kimya): \")\n",
    "        yeni_not = int(input(\"Yeni notu girin: \"))\n",
    "        if isim in ogrenci_notlari and ders in ogrenci_notlari[isim]:\n",
    "            ogrenci_notlari[isim][ders] = yeni_not\n",
    "            print(f\"{isim} adlı öğrencinin {ders} notu güncellendi: {ogrenci_notlari[isim][ders]}\")\n",
    "        else:\n",
    "            print(\"Girilen isim veya ders hatalı.\")\n",
    "\n",
    "    elif secim == \"3\":\n",
    "        isim = input(\"Yeni öğrencinin ismini girin: \")\n",
    "        matematik_notu = int(input(\"Matematik notunu girin: \"))\n",
    "        fizik_notu = int(input(\"Fizik notunu girin: \"))\n",
    "        kimya_notu = int(input(\"Kimya notunu girin: \"))\n",
    "        ogrenci_notlari[isim] = {\"Matematik\": matematik_notu, \"Fizik\": fizik_notu, \"Kimya\": kimya_notu}\n",
    "        print(f\"{isim} adlı öğrenci sözlüğe eklendi.\")\n",
    "\n",
    "    elif secim == \"4\":\n",
    "        for isim, notlar in ogrenci_notlari.items():\n",
    "            print(f\"{isim}: Matematik: {notlar['Matematik']}, Fizik: {notlar['Fizik']}, Kimya: {notlar['Kimya']}\")\n",
    "\n",
    "    elif secim == \"5\":\n",
    "        print(\"Programdan çıkılıyor.\")\n",
    "        break\n",
    "\n",
    "    else:\n",
    "        print(\"Geçersiz seçim, lütfen tekrar deneyin.\")"
   ]
  },
  {
   "cell_type": "code",
   "execution_count": null,
   "id": "9ab5479d-f367-42ed-848d-4b81ad60ec07",
   "metadata": {},
   "outputs": [],
   "source": []
  }
 ],
 "metadata": {
  "kernelspec": {
   "display_name": "Python 3 (ipykernel)",
   "language": "python",
   "name": "python3"
  },
  "language_info": {
   "codemirror_mode": {
    "name": "ipython",
    "version": 3
   },
   "file_extension": ".py",
   "mimetype": "text/x-python",
   "name": "python",
   "nbconvert_exporter": "python",
   "pygments_lexer": "ipython3",
   "version": "3.12.4"
  }
 },
 "nbformat": 4,
 "nbformat_minor": 5
}
