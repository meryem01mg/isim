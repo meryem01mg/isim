{
 "cells": [
  {
   "cell_type": "code",
   "execution_count": 3,
   "id": "9c8f3e56-3ba3-4c96-8b92-7cc21161ced4",
   "metadata": {},
   "outputs": [
    {
     "name": "stdout",
     "output_type": "stream",
     "text": [
      "DataFrame:\n",
      "    Kategori           Ürün  Fiyat\n",
      "0     Giyim          Kazak    300\n",
      "1     Giyim        T-shirt    180\n",
      "2  Ayakkabı       Sandalet    450\n",
      "3  Aksesuar           Küpe     50\n",
      "4  Ayakkabı  Spor Ayakkabı    700\n",
      "5     Giyim       Pantolon    400\n",
      "6  Aksesuar          Kolye    150\n",
      "7  Aksesuar          Yüzük     80\n",
      "8  Ayakkabı          Çizme    850\n",
      "9     Giyim          Ceket    900\n",
      "İlk 5 Satır:\n",
      "    Kategori           Ürün  Fiyat\n",
      "0     Giyim          Kazak    300\n",
      "1     Giyim        T-shirt    180\n",
      "2  Ayakkabı       Sandalet    450\n",
      "3  Aksesuar           Küpe     50\n",
      "4  Ayakkabı  Spor Ayakkabı    700\n"
     ]
    }
   ],
   "source": [
    "import pandas as pd\n",
    "\n",
    "# Verilen sözlük\n",
    "sozluk = {\n",
    "    \"Kategori\": [\"Giyim\", \"Giyim\", \"Ayakkabı\", \"Aksesuar\", \"Ayakkabı\", \"Giyim\", \"Aksesuar\", \"Aksesuar\", \"Ayakkabı\", \"Giyim\"],\n",
    "    \"Ürün\": [\"Kazak\", \"T-shirt\", \"Sandalet\", \"Küpe\", \"Spor Ayakkabı\", \"Pantolon\", \"Kolye\", \"Yüzük\", \"Çizme\", \"Ceket\"],\n",
    "    \"Fiyat\": [300, 180, 450, 50, 700, 400, 150, 80, 850, 900]\n",
    "}\n",
    "\n",
    "# Sözlüğü DataFrame'e dönüştürme\n",
    "df = pd.DataFrame(sozluk)\n",
    "print(\"DataFrame:\\n\", df)\n",
    "\n",
    "# İlk 5 satırı görüntüleme\n",
    "print(\"İlk 5 Satır:\\n\", df.head())\n",
    "\n",
    "\n",
    "\n"
   ]
  },
  {
   "cell_type": "code",
   "execution_count": 4,
   "id": "949f85b8-01bd-493a-a8b2-468086494609",
   "metadata": {},
   "outputs": [
    {
     "name": "stdout",
     "output_type": "stream",
     "text": [
      "2. İndekste Bulunan Kategori: Ayakkabı\n",
      "2. İndekste Bulunan Ürün: Sandalet\n",
      "4. İndeksten 9. İndekse Kadar Olan Veriler:\n",
      "    Kategori           Ürün  Fiyat\n",
      "4  Ayakkabı  Spor Ayakkabı    700\n",
      "5     Giyim       Pantolon    400\n",
      "6  Aksesuar          Kolye    150\n",
      "7  Aksesuar          Yüzük     80\n",
      "8  Ayakkabı          Çizme    850\n",
      "9     Giyim          Ceket    900\n",
      "1. İndeksten 6. İndekse Kadar Olan Ürünler:\n",
      " 1          T-shirt\n",
      "2         Sandalet\n",
      "3             Küpe\n",
      "4    Spor Ayakkabı\n",
      "5         Pantolon\n",
      "6            Kolye\n",
      "Name: Ürün, dtype: object\n"
     ]
    }
   ],
   "source": [
    "# 2. indekste bulunan kategori\n",
    "kategori_2 = df.loc[2, \"Kategori\"]\n",
    "print(\"2. İndekste Bulunan Kategori:\", kategori_2)\n",
    "\n",
    "# 2. indekste bulunan ürün\n",
    "urun_2 = df.loc[2, \"Ürün\"]\n",
    "print(\"2. İndekste Bulunan Ürün:\", urun_2)\n",
    "\n",
    "# 4. indeksten 9. indekse kadar olan veriler (kategori, ürün, fiyat)\n",
    "veriler_4_9 = df.loc[4:9, :]\n",
    "print(\"4. İndeksten 9. İndekse Kadar Olan Veriler:\\n\", veriler_4_9)\n",
    "\n",
    "# 1. indeksten 6. indekse kadar olan ürünler (sadece ürün bilgisi)\n",
    "urunler_1_6 = df.loc[1:6, \"Ürün\"]\n",
    "print(\"1. İndeksten 6. İndekse Kadar Olan Ürünler:\\n\", urunler_1_6)"
   ]
  },
  {
   "cell_type": "code",
   "execution_count": 5,
   "id": "7276ebc2-d357-4074-81a3-69650702b851",
   "metadata": {},
   "outputs": [
    {
     "name": "stdout",
     "output_type": "stream",
     "text": [
      "Giyim Kategorisinde Fiyatı 300'den Fazla Olan Ürünler:\n",
      "   Kategori      Ürün  Fiyat\n",
      "5    Giyim  Pantolon    400\n",
      "9    Giyim     Ceket    900\n",
      "Ayakkabı Kategorisinde Fiyatı 600'den Az Olan Ürünler:\n",
      "    Kategori      Ürün  Fiyat\n",
      "2  Ayakkabı  Sandalet    450\n",
      "Aksesuar Kategorisinde Fiyatı 100'den Fazla Olan Ürünler:\n",
      "    Kategori   Ürün  Fiyat\n",
      "6  Aksesuar  Kolye    150\n"
     ]
    }
   ],
   "source": [
    "\n",
    "# Giyim kategorisinde fiyatı 300'den fazla olan ürünler\n",
    "giyim_filtresi = df[(df[\"Kategori\"] == \"Giyim\") & (df[\"Fiyat\"] > 300)]\n",
    "print(\"Giyim Kategorisinde Fiyatı 300'den Fazla Olan Ürünler:\\n\", giyim_filtresi)\n",
    "\n",
    "# Ayakkabı kategorisinde fiyatı 600'den az olan ürünler\n",
    "ayakkabi_filtresi = df[(df[\"Kategori\"] == \"Ayakkabı\") & (df[\"Fiyat\"] < 600)]\n",
    "print(\"Ayakkabı Kategorisinde Fiyatı 600'den Az Olan Ürünler:\\n\", ayakkabi_filtresi)\n",
    "\n",
    "# Aksesuar kategorisinde fiyatı 100'den fazla olan ürünler\n",
    "aksesuar_filtresi = df[(df[\"Kategori\"] == \"Aksesuar\") & (df[\"Fiyat\"] > 100)]\n",
    "print(\"Aksesuar Kategorisinde Fiyatı 100'den Fazla Olan Ürünler:\\n\", aksesuar_filtresi)"
   ]
  },
  {
   "cell_type": "code",
   "execution_count": null,
   "id": "45b5fd24-2ac1-40d9-88d9-3e1ce6604915",
   "metadata": {},
   "outputs": [],
   "source": []
  }
 ],
 "metadata": {
  "kernelspec": {
   "display_name": "Python 3 (ipykernel)",
   "language": "python",
   "name": "python3"
  },
  "language_info": {
   "codemirror_mode": {
    "name": "ipython",
    "version": 3
   },
   "file_extension": ".py",
   "mimetype": "text/x-python",
   "name": "python",
   "nbconvert_exporter": "python",
   "pygments_lexer": "ipython3",
   "version": "3.12.4"
  }
 },
 "nbformat": 4,
 "nbformat_minor": 5
}
